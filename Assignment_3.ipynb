{
 "cells": [
  {
   "cell_type": "code",
   "execution_count": 1,
   "metadata": {},
   "outputs": [
    {
     "name": "stdout",
     "output_type": "stream",
     "text": [
      "1 2 3 4 \n",
      "10\n",
      "[2, 4]\n"
     ]
    }
   ],
   "source": [
    "#q1\n",
    "lisst = list(map(int,input().split()))\n",
    "def myreduce(func,lisst):\n",
    "    res = lisst[0]\n",
    "    for i in lisst[1:]:\n",
    "        res = func(res,i)\n",
    "    return res\n",
    "\n",
    "\n",
    "def myfilter(func, lisst):\n",
    "    res = []\n",
    "    for i in lisst:\n",
    "        if func(i):\n",
    "            res.append(i)\n",
    "    return res\n",
    "\n",
    "\n",
    "def is_even(x):\n",
    "    if x % 2 == 0:\n",
    "        return True\n",
    "    else:\n",
    "        return False\n",
    "\n",
    "\n",
    "def sum(i,j):\n",
    "    return i+j\n",
    "\n",
    "print(myreduce(sum,lisst))\n",
    "print(myfilter(is_even, lisst))"
   ]
  },
  {
   "cell_type": "code",
   "execution_count": 2,
   "metadata": {},
   "outputs": [
    {
     "name": "stdout",
     "output_type": "stream",
     "text": [
      "['x', 'xx', 'xxx', 'xxxx', 'y', 'yy', 'yyy', 'yyyy', 'z', 'zz', 'zzz', 'zzzz']\n",
      "['x', 'y', 'z', 'xx', 'yy', 'zz', 'xxx', 'yyy', 'zzz', 'xxxx', 'yyyy', 'zzzz']\n",
      "[[2], [3], [4], [3], [4], [5], [4], [5], [6]]\n",
      "[2, 3, 4, 3, 4, 5, 4, 5, 6, 5, 6, 7]\n",
      "[(1, 1), (1, 2), (1, 3), (2, 1), (2, 2), (2, 3), (3, 1), (3, 2), (3, 3)]\n"
     ]
    }
   ],
   "source": [
    "#q2\n",
    "arr = ['x', 'y', 'z']\n",
    "out1 = [i*n for i in arr for n in range(1,5)]\n",
    "out2 = [i*n for n in range(1,5) for i in arr]\n",
    "\n",
    "arr1 = [2,3,4]\n",
    "out3 = [[i+n] for i in arr1 for n in range(0,3)]\n",
    "\n",
    "arr2 = [2,3,4,5]\n",
    "out4 = [i+n for i in arr2 for n in range(0,3)]\n",
    "\n",
    "arr3 = [1,2,3]\n",
    "out5 = [(i,x) for i in range(1,4) for x in arr3]\n",
    "\n",
    "print(out1)\n",
    "print(out2)\n",
    "print(out3)\n",
    "print(out4)\n",
    "print(out5)"
   ]
  },
  {
   "cell_type": "code",
   "execution_count": null,
   "metadata": {},
   "outputs": [],
   "source": []
  }
 ],
 "metadata": {
  "kernelspec": {
   "display_name": "Python 3",
   "language": "python",
   "name": "python3"
  },
  "language_info": {
   "codemirror_mode": {
    "name": "ipython",
    "version": 3
   },
   "file_extension": ".py",
   "mimetype": "text/x-python",
   "name": "python",
   "nbconvert_exporter": "python",
   "pygments_lexer": "ipython3",
   "version": "3.7.3"
  }
 },
 "nbformat": 4,
 "nbformat_minor": 2
}
