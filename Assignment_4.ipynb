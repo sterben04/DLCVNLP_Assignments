{
 "cells": [
  {
   "cell_type": "code",
   "execution_count": 12,
   "metadata": {},
   "outputs": [
    {
     "name": "stdout",
     "output_type": "stream",
     "text": [
      "4 5 6\n",
      "9.921567416492215\n"
     ]
    }
   ],
   "source": [
    "#1.1\n",
    "class triangle:\n",
    "    def __init__(self,a,b,c):\n",
    "        self.a = a\n",
    "        self.b = b\n",
    "        self.c = c\n",
    "a,b,c = map(int,input().split())\n",
    "    \n",
    "class calc_area(triangle):\n",
    "    def area(self):\n",
    "        s = (a+b+c)/2\n",
    "        area = (s*(s-a)*(s-b)*(s-c)) ** 0.5\n",
    "        print(area)\n",
    "\n",
    "\n",
    "ar = calc_area(a,b,c)\n",
    "\n",
    "ar.area()\n",
    "\n",
    "\n"
   ]
  },
  {
   "cell_type": "code",
   "execution_count": 16,
   "metadata": {},
   "outputs": [
    {
     "name": "stdout",
     "output_type": "stream",
     "text": [
      "haha ima great person\n",
      "4\n",
      "['great', 'person']\n"
     ]
    }
   ],
   "source": [
    "#1.2\n",
    "def filter_long_words(strr,n):\n",
    "    lisst = []\n",
    "    for i in strr:\n",
    "        if(len(i)>n):\n",
    "            lisst.append(i)\n",
    "    return lisst\n",
    "strr = input().split()\n",
    "n = int(input())\n",
    "grtr_words = filter_long_words(strr,n)\n",
    "print(grtr_words)"
   ]
  },
  {
   "cell_type": "code",
   "execution_count": 23,
   "metadata": {},
   "outputs": [
    {
     "name": "stdout",
     "output_type": "stream",
     "text": [
      "[4, 3, 5, 6]\n"
     ]
    }
   ],
   "source": [
    "#2.1\n",
    "def length_str(strr):\n",
    "    lisst = []\n",
    "    for i in strr:\n",
    "        lisst.append(len(i))\n",
    "    return lisst\n",
    "print(length_str(['haha','ima','great','person']))"
   ]
  },
  {
   "cell_type": "code",
   "execution_count": 20,
   "metadata": {},
   "outputs": [
    {
     "name": "stdout",
     "output_type": "stream",
     "text": [
      "True\n"
     ]
    }
   ],
   "source": [
    "#2.2\n",
    "def is_vowel(ch):\n",
    "    vow = ['a','e','i','o','u']\n",
    "    if ch in vow:\n",
    "        return True\n",
    "print(is_vowel('a'))"
   ]
  },
  {
   "cell_type": "code",
   "execution_count": null,
   "metadata": {},
   "outputs": [],
   "source": []
  }
 ],
 "metadata": {
  "kernelspec": {
   "display_name": "Python 3",
   "language": "python",
   "name": "python3"
  },
  "language_info": {
   "codemirror_mode": {
    "name": "ipython",
    "version": 3
   },
   "file_extension": ".py",
   "mimetype": "text/x-python",
   "name": "python",
   "nbconvert_exporter": "python",
   "pygments_lexer": "ipython3",
   "version": "3.7.3"
  }
 },
 "nbformat": 4,
 "nbformat_minor": 2
}
